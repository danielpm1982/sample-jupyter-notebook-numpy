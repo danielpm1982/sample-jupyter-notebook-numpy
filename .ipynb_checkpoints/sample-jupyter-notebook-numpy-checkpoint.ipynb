{
 "cells": [
  {
   "cell_type": "markdown",
   "id": "264248ea-ee96-4551-88a2-91ad53145e1b",
   "metadata": {},
   "source": [
    "## This is a Jupyter Notebook that shows the basics about how to use NumPy lib along with Anaconda managed environments"
   ]
  },
  {
   "cell_type": "code",
   "execution_count": 1,
   "id": "8b16451c-9ee4-4790-a8a8-b817b71b57c3",
   "metadata": {},
   "outputs": [],
   "source": [
    "import numpy as np"
   ]
  },
  {
   "cell_type": "markdown",
   "id": "54a7fa80-c9a0-4c6b-9f9c-def03e995e28",
   "metadata": {},
   "source": [
    "## Datatypes, Attributes and Functions at Arrays"
   ]
  },
  {
   "cell_type": "markdown",
   "id": "7cff5052-bbb4-483e-b333-751b45c3ee09",
   "metadata": {},
   "source": [
    "- numpy main datatype is n-dimensional array type, which can be created with different dimensions, shapes and sizes"
   ]
  },
  {
   "cell_type": "code",
   "execution_count": 2,
   "id": "bbaa144e-eb07-4d6c-a8da-54d17a2b2870",
   "metadata": {},
   "outputs": [],
   "source": [
    "# 1-dimensional array - X dimnesion only - axis=0 is the single row of elements with any number of columns that compose the single-row \n",
    "# array, also known as row-vector\n",
    "# array() function creates an array of any number of dimensions, with any datatype or value for each element\n",
    "array_1 = np.array([1,2,3])"
   ]
  },
  {
   "cell_type": "code",
   "execution_count": 3,
   "id": "5b2e3a5b-2552-4b95-b048-dbd905673775",
   "metadata": {},
   "outputs": [
    {
     "data": {
      "text/plain": [
       "array([1, 2, 3])"
      ]
     },
     "execution_count": 3,
     "metadata": {},
     "output_type": "execute_result"
    }
   ],
   "source": [
    "array_1"
   ]
  },
  {
   "cell_type": "code",
   "execution_count": 4,
   "id": "79d97934-2968-45f6-8c6a-6cd4815cb410",
   "metadata": {},
   "outputs": [
    {
     "data": {
      "text/plain": [
       "numpy.ndarray"
      ]
     },
     "execution_count": 4,
     "metadata": {},
     "output_type": "execute_result"
    }
   ],
   "source": [
    "# the type is a numpy.ndarray - an n-dimensional array\n",
    "type(array_1)"
   ]
  },
  {
   "cell_type": "code",
   "execution_count": 5,
   "id": "f7c6c967-dc31-4a5a-96bc-07a69fc4d645",
   "metadata": {},
   "outputs": [],
   "source": [
    "# 2-dimensional array - or matrix - X and Y dimensions - axis=0 and axis=1 are the rows and columns of elements that compose the single \n",
    "# matrix, with multiple rows and columns, also known as array of arrays\n",
    "array_2 = np.array([[1,2,3],[4,5,6]])\n",
    "\n",
    "# 3-dimensional array - multiple planes or levels of matrices - axis=0, axis=1 and axis=2 are the planes, rows and columns of elements \n",
    "# that compose the multiple planes with a single matrix each (each matrix with multiple rows and columns), also known as an array of \n",
    "# matrices\n",
    "array_3 = np.array([[[1,2,3],\n",
    "                     [4,5,6],\n",
    "                     [7,8,9]],\n",
    "                    [[10,11,12],\n",
    "                     [13,14,15],\n",
    "                     [16,17,18]],\n",
    "                    [[19,20,21],\n",
    "                     [22,23,24],\n",
    "                     [25,26,27]]])\n",
    "\n",
    "# a 4-dimensional array would be an array of 3D-arrays... though, starting from 4 dimensions and on, there's no way for it to be \n",
    "# represented graphically for humans (only dimensions X, Y and Z are visualizable graphically)... but arrays or vectors of \n",
    "# thousands of dimensions can be represented at computer's code or in math... just by using more []s.\n",
    "\n",
    "# full() function creates a higher dimnensional array automatically, with the shape and a fixed value (for all elements) as \n",
    "# parameters. other similar functions would be zeros(), ones(), ones_like() and empty()\n",
    "array_4 = np.full((2,2,3,4),1)\n"
   ]
  },
  {
   "cell_type": "code",
   "execution_count": 6,
   "id": "ff6c7f82-8856-4871-86b6-460cc98b58f8",
   "metadata": {},
   "outputs": [
    {
     "data": {
      "text/plain": [
       "array([[1, 2, 3],\n",
       "       [4, 5, 6]])"
      ]
     },
     "execution_count": 6,
     "metadata": {},
     "output_type": "execute_result"
    }
   ],
   "source": [
    "array_2"
   ]
  },
  {
   "cell_type": "code",
   "execution_count": 7,
   "id": "f2c84242-fedd-45cd-b958-5991a7d2da35",
   "metadata": {},
   "outputs": [
    {
     "data": {
      "text/plain": [
       "array([[[ 1,  2,  3],\n",
       "        [ 4,  5,  6],\n",
       "        [ 7,  8,  9]],\n",
       "\n",
       "       [[10, 11, 12],\n",
       "        [13, 14, 15],\n",
       "        [16, 17, 18]],\n",
       "\n",
       "       [[19, 20, 21],\n",
       "        [22, 23, 24],\n",
       "        [25, 26, 27]]])"
      ]
     },
     "execution_count": 7,
     "metadata": {},
     "output_type": "execute_result"
    }
   ],
   "source": [
    "array_3"
   ]
  },
  {
   "cell_type": "code",
   "execution_count": 8,
   "id": "919b62ad-3612-43e9-a776-81b9831b5528",
   "metadata": {},
   "outputs": [
    {
     "data": {
      "text/plain": [
       "array([[[[1, 1, 1, 1],\n",
       "         [1, 1, 1, 1],\n",
       "         [1, 1, 1, 1]],\n",
       "\n",
       "        [[1, 1, 1, 1],\n",
       "         [1, 1, 1, 1],\n",
       "         [1, 1, 1, 1]]],\n",
       "\n",
       "\n",
       "       [[[1, 1, 1, 1],\n",
       "         [1, 1, 1, 1],\n",
       "         [1, 1, 1, 1]],\n",
       "\n",
       "        [[1, 1, 1, 1],\n",
       "         [1, 1, 1, 1],\n",
       "         [1, 1, 1, 1]]]])"
      ]
     },
     "execution_count": 8,
     "metadata": {},
     "output_type": "execute_result"
    }
   ],
   "source": [
    "array_4"
   ]
  },
  {
   "cell_type": "code",
   "execution_count": 9,
   "id": "76ac4e46-4fe0-4149-97a8-1370503ded30",
   "metadata": {},
   "outputs": [
    {
     "data": {
      "text/plain": [
       "(1, 2, 3, 4)"
      ]
     },
     "execution_count": 9,
     "metadata": {},
     "output_type": "execute_result"
    }
   ],
   "source": [
    "# ndim attribute stores the number of dimensions of an ndarray\n",
    "array_1.ndim, array_2.ndim, array_3.ndim, array_4.ndim"
   ]
  },
  {
   "cell_type": "code",
   "execution_count": 10,
   "id": "f15b4c81-6a00-4c67-9403-37b7ba4a199a",
   "metadata": {},
   "outputs": [
    {
     "name": "stdout",
     "output_type": "stream",
     "text": [
      "1D-array: (3,)\n",
      "2D-array: (2, 3)\n",
      "3D-array: (3, 3, 3)\n",
      "4D-array: (2, 2, 3, 4)\n"
     ]
    }
   ],
   "source": [
    "# shape attribute shows the X, Y, Z or more dimensional axes (and their values) of an ndarray.\n",
    "\n",
    "# 1-dimensional arrays have only 1 single axis, which is axis=0. The value at this axis is the number of elements along the horizontal \n",
    "# array line, from [0] to the [length-1] position at the row-vector (there are no vertical array lines) \n",
    "# When printed, the shape attribute of a 1D-array shows a tuple with only one value (axis=0 value), which is the number of elements \n",
    "# disposed horizontally at that array (throughout its axis 0)\n",
    "print(f\"1D-array: {array_1.shape}\")\n",
    "\n",
    "# 2-dimensional arrays have 2 axes, which are axis=0 and axis=1. The values at these axes are:\n",
    "# - for axis=0: the number of elements along the vertical line (number of rows) - don't confuse that with axis=0 of 1D-arrays, \n",
    "# or axis=0 of 3D arrays, which are different axes!\n",
    "# - for axis=1: the number of elements along the horizontal line (number of columns)\n",
    "# When printed, the shape attribute of a 2D-array shows a tuple with those two values, which are the number of elements disposed vertically \n",
    "# at that matrix (throughout its axis 0) and the number of elements disposed horizontally at the matrix (throughout its axis 1)\n",
    "print(f\"2D-array: {array_2.shape}\")\n",
    "\n",
    "# 3-dimensional arrays have 3 axes, which are axis=0, axis=1 and axis=2. The values at these axes are:\n",
    "# - for axis=0: the number of elements (planes or matrices - each matrix being a plane) along the depth (Z) line. You may have many \n",
    "# planes of matrices, one behind another, disposed along the depth 3D axis, forming the axis 0 of this 3D array. Don't confuse that \n",
    "# with axis=0 of 1D or 2D-arrays, which are different !\n",
    "# - for axis=1: the number of elements along the vertical line (number of rows). Don't confuse that with axis=1 of 2D-arrays, \n",
    "# which is different !\n",
    "# - for axis=2: the number of elements along the horizontal line (number of columns).\n",
    "# When printed, the shape attribute of a 3D-array shows a tuple with those three values, which are the number of planes (matrices) \n",
    "# disposed along the depth (Z) axis (axis 0), the elements disposed vertically at each matrix (throughout its axis 1) and the number \n",
    "# of elements disposed horizontally at each matrix (throughout its axis 2).\n",
    "print(f\"3D-array: {array_3.shape}\")\n",
    "\n",
    "# For 4D and on, we cannot represent graphically but it's easy to represent in math or at computers, just adding one more external \n",
    "# leval of [], including all other []s inside. That way, for relating between a 4D-array and its shape tuple values, just relate\n",
    "# the innermost [] of the array to the rightmost value of the tuple; then the 2nd innermost [] of the array to the 2nd rightmost value\n",
    "# at the tuple... until you get to the outermost [] of the array which must correspond to the leftmost value of the tuple. Just look\n",
    "# to the the array inner-out and the shape tuple from right to left.\n",
    "print(f\"4D-array: {array_4.shape}\")"
   ]
  },
  {
   "cell_type": "code",
   "execution_count": 11,
   "id": "ebeebdb8-d645-4d47-9b7c-341d4adabbd1",
   "metadata": {},
   "outputs": [
    {
     "data": {
      "text/plain": [
       "(dtype('int64'), dtype('int64'), dtype('int64'))"
      ]
     },
     "execution_count": 11,
     "metadata": {},
     "output_type": "execute_result"
    }
   ],
   "source": [
    "# dtype attribute stores the type of elements that compose the ndarray\n",
    "array_1.dtype, array_2.dtype, array_3.dtype"
   ]
  },
  {
   "cell_type": "code",
   "execution_count": 12,
   "id": "1a0fb0f7-296a-4be7-9ba0-f7e1d0ae8e37",
   "metadata": {},
   "outputs": [
    {
     "data": {
      "text/plain": [
       "(3, 6, 27, 48)"
      ]
     },
     "execution_count": 12,
     "metadata": {},
     "output_type": "execute_result"
    }
   ],
   "source": [
    "# size attribute shows the number of total elements of the ndarray\n",
    "array_1.size, array_2.size, array_3.size, array_4.size"
   ]
  },
  {
   "cell_type": "code",
   "execution_count": 13,
   "id": "cb0f2bf2-9fa3-4308-a5a0-913787b050df",
   "metadata": {},
   "outputs": [
    {
     "data": {
      "text/plain": [
       "(numpy.ndarray, numpy.ndarray, numpy.ndarray, numpy.ndarray)"
      ]
     },
     "execution_count": 13,
     "metadata": {},
     "output_type": "execute_result"
    }
   ],
   "source": [
    "# type function shows the type of each ndarray\n",
    "type(array_1), type(array_2), type(array_3), type(array_4)"
   ]
  },
  {
   "cell_type": "code",
   "execution_count": 14,
   "id": "f9f91ff4-b0ee-493d-8459-4e2db35622bc",
   "metadata": {},
   "outputs": [
    {
     "name": "stdout",
     "output_type": "stream",
     "text": [
      "2D NumPy array:\n",
      "[[1 2 3]\n",
      " [4 5 6]]\n",
      "\n",
      "converting to\n",
      "↓↓↓↓↓↓↓↓↓↓↓↓↓\n",
      "\n",
      "Pandas DataFrame:\n"
     ]
    },
    {
     "data": {
      "text/html": [
       "<div>\n",
       "<style scoped>\n",
       "    .dataframe tbody tr th:only-of-type {\n",
       "        vertical-align: middle;\n",
       "    }\n",
       "\n",
       "    .dataframe tbody tr th {\n",
       "        vertical-align: top;\n",
       "    }\n",
       "\n",
       "    .dataframe thead th {\n",
       "        text-align: right;\n",
       "    }\n",
       "</style>\n",
       "<table border=\"1\" class=\"dataframe\">\n",
       "  <thead>\n",
       "    <tr style=\"text-align: right;\">\n",
       "      <th></th>\n",
       "      <th>0</th>\n",
       "      <th>1</th>\n",
       "      <th>2</th>\n",
       "    </tr>\n",
       "  </thead>\n",
       "  <tbody>\n",
       "    <tr>\n",
       "      <th>0</th>\n",
       "      <td>1</td>\n",
       "      <td>2</td>\n",
       "      <td>3</td>\n",
       "    </tr>\n",
       "    <tr>\n",
       "      <th>1</th>\n",
       "      <td>4</td>\n",
       "      <td>5</td>\n",
       "      <td>6</td>\n",
       "    </tr>\n",
       "  </tbody>\n",
       "</table>\n",
       "</div>"
      ],
      "text/plain": [
       "   0  1  2\n",
       "0  1  2  3\n",
       "1  4  5  6"
      ]
     },
     "execution_count": 14,
     "metadata": {},
     "output_type": "execute_result"
    }
   ],
   "source": [
    "# for using a NumPy array to create a Pandas DataFrame, just create a DataFrame as usual passing the array, as argument:\n",
    "import pandas as pd\n",
    "print(\"2D NumPy array:\")\n",
    "print(array_2)\n",
    "print(\"\\nconverting to\")\n",
    "print(\"↓↓↓↓↓↓↓↓↓↓↓↓↓\\n\")\n",
    "print(\"Pandas DataFrame:\")\n",
    "pd.DataFrame(array_2)"
   ]
  },
  {
   "cell_type": "markdown",
   "id": "b1840ca9-90be-48a4-92c6-ce0f66791659",
   "metadata": {},
   "source": [
    "## Creating Arrays"
   ]
  },
  {
   "cell_type": "code",
   "execution_count": 15,
   "id": "4b7e17f6-2a29-45c1-a3ab-b0cc961045f2",
   "metadata": {},
   "outputs": [
    {
     "data": {
      "text/plain": [
       "array([1, 2, 3])"
      ]
     },
     "execution_count": 15,
     "metadata": {},
     "output_type": "execute_result"
    }
   ],
   "source": [
    "# array() receives a list of elements and creates the array - simplest way (not the easiest for multi-D arrays\n",
    "sample_array = np.array([1,2,3])\n",
    "sample_array"
   ]
  },
  {
   "cell_type": "code",
   "execution_count": 16,
   "id": "d13c56b2-6bee-4c0a-9cc1-f4e8ffae7fd5",
   "metadata": {},
   "outputs": [
    {
     "data": {
      "text/plain": [
       "dtype('int64')"
      ]
     },
     "execution_count": 16,
     "metadata": {},
     "output_type": "execute_result"
    }
   ],
   "source": [
    "sample_array.dtype"
   ]
  },
  {
   "cell_type": "code",
   "execution_count": 17,
   "id": "7d2bb340-35bb-443d-9201-8325483cb53e",
   "metadata": {},
   "outputs": [
    {
     "data": {
      "text/plain": [
       "numpy.ndarray"
      ]
     },
     "execution_count": 17,
     "metadata": {},
     "output_type": "execute_result"
    }
   ],
   "source": [
    "type(sample_array)"
   ]
  },
  {
   "cell_type": "code",
   "execution_count": 18,
   "id": "5b6f70f6-774d-4600-ad19-4d53a2bfab67",
   "metadata": {},
   "outputs": [
    {
     "data": {
      "text/plain": [
       "array([[1., 1., 1.],\n",
       "       [1., 1., 1.]])"
      ]
     },
     "execution_count": 18,
     "metadata": {},
     "output_type": "execute_result"
    }
   ],
   "source": [
    "# ones() creates an array of fixed values equal to 1\n",
    "sample_array_2 = np.ones(shape=(2,3),dtype=float)\n",
    "sample_array_2"
   ]
  },
  {
   "cell_type": "code",
   "execution_count": 19,
   "id": "db0fb02f-f49c-4a44-af1f-f4d7b945317b",
   "metadata": {},
   "outputs": [
    {
     "data": {
      "text/plain": [
       "array([[0, 0],\n",
       "       [0, 0],\n",
       "       [0, 0]])"
      ]
     },
     "execution_count": 19,
     "metadata": {},
     "output_type": "execute_result"
    }
   ],
   "source": [
    "# zeros() creates an array of fixed values equal to 0\n",
    "sample_array_3 = np.zeros(shape=(3,2),dtype=int)\n",
    "sample_array_3"
   ]
  },
  {
   "cell_type": "code",
   "execution_count": 20,
   "id": "571f49d3-5020-4222-a6fc-1672d84ebf29",
   "metadata": {},
   "outputs": [
    {
     "data": {
      "text/plain": [
       "array([[4607182418800017408, 4607182418800017408],\n",
       "       [4607182418800017408, 4607182418800017408],\n",
       "       [4607182418800017408, 4607182418800017408]])"
      ]
     },
     "execution_count": 20,
     "metadata": {},
     "output_type": "execute_result"
    }
   ],
   "source": [
    "# empty() creates an array of uninitilized arbitrary values\n",
    "sample_array_4 = np.empty(shape=(3,2),dtype=int)\n",
    "sample_array_4"
   ]
  },
  {
   "cell_type": "code",
   "execution_count": 21,
   "id": "de262e7e-7d3e-4e1b-bb1f-8cb7ec93cb3d",
   "metadata": {},
   "outputs": [
    {
     "data": {
      "text/plain": [
       "array([[5, 5, 5],\n",
       "       [5, 5, 5],\n",
       "       [5, 5, 5]])"
      ]
     },
     "execution_count": 21,
     "metadata": {},
     "output_type": "execute_result"
    }
   ],
   "source": [
    "# full() creates an array of fixed values equal to fill_value arg\n",
    "sample_array_5 = np.full(shape=(3,3), fill_value=5, dtype=int)\n",
    "sample_array_5"
   ]
  },
  {
   "cell_type": "code",
   "execution_count": 22,
   "id": "91033094-d7ba-40e5-ad1b-807b5c1c07c6",
   "metadata": {},
   "outputs": [
    {
     "data": {
      "text/plain": [
       "array([ 0, 10, 20, 30, 40, 50, 60, 70, 80, 90])"
      ]
     },
     "execution_count": 22,
     "metadata": {},
     "output_type": "execute_result"
    }
   ],
   "source": [
    "# arange() creates an array with values between start and stop with a step interval between them\n",
    "sample_array_6 = np.arange(0,100,10)\n",
    "sample_array_6"
   ]
  },
  {
   "cell_type": "code",
   "execution_count": 23,
   "id": "cb7f6d52-33bd-45aa-b6e4-b0f33a0bfb90",
   "metadata": {},
   "outputs": [
    {
     "data": {
      "text/plain": [
       "(array([ 0., 10., 20., 30., 40., 50., 60., 70., 80., 90.]), 10.0)"
      ]
     },
     "execution_count": 23,
     "metadata": {},
     "output_type": "execute_result"
    }
   ],
   "source": [
    "# linspace() creates an array with a defined (defined at 'num' param) number of values betweem start and stop\n",
    "sample_array_7 = np.linspace(0,100,num=10,endpoint=False,retstep=True)\n",
    "sample_array_7"
   ]
  },
  {
   "cell_type": "code",
   "execution_count": 24,
   "id": "61a75b9a-0fbd-4a84-b846-0cc31bd2ec64",
   "metadata": {},
   "outputs": [
    {
     "data": {
      "text/plain": [
       "array([[[21, 15, 37],\n",
       "        [ 7,  2, 40],\n",
       "        [41,  5, 21]],\n",
       "\n",
       "       [[28, 12,  2],\n",
       "        [42, 38,  6],\n",
       "        [27, 20, 33]]])"
      ]
     },
     "execution_count": 24,
     "metadata": {},
     "output_type": "execute_result"
    }
   ],
   "source": [
    "# ramdom.randint() creates an array of ints with pseudo-random values between start and stop\n",
    "sample_array_8 = np.random.randint(1,50, size=(2,3,3))\n",
    "sample_array_8"
   ]
  },
  {
   "cell_type": "code",
   "execution_count": 25,
   "id": "eba375df-1106-4921-9462-1dc9e2461439",
   "metadata": {},
   "outputs": [
    {
     "data": {
      "text/plain": [
       "'min = 2, max = 42, shape = (2, 3, 3)'"
      ]
     },
     "execution_count": 25,
     "metadata": {},
     "output_type": "execute_result"
    }
   ],
   "source": [
    "f\"min = {sample_array_8.min()}, max = {sample_array_8.max()}, shape = {sample_array_8.shape}\""
   ]
  },
  {
   "cell_type": "code",
   "execution_count": 26,
   "id": "4064bbd4-20c5-44bb-96d1-1b13799eb9ba",
   "metadata": {},
   "outputs": [
    {
     "data": {
      "text/plain": [
       "array([[0.5488637 , 0.22176657, 0.30475958],\n",
       "       [0.76285422, 0.84889859, 0.38916252]])"
      ]
     },
     "execution_count": 26,
     "metadata": {},
     "output_type": "execute_result"
    }
   ],
   "source": [
    "# random.random() creates an array of values betweem 0 and 1 - optionally, as other functions above, receiving a tuple setting the shape\n",
    "sample_array_9 = np.random.random((2,3))\n",
    "sample_array_9"
   ]
  },
  {
   "cell_type": "code",
   "execution_count": 27,
   "id": "dcfe630b-56b9-4a03-8a61-9cf9b2824902",
   "metadata": {},
   "outputs": [
    {
     "data": {
      "text/plain": [
       "array([[0.02791135, 0.8243484 , 0.23889871],\n",
       "       [0.89984058, 0.80469259, 0.41782196]])"
      ]
     },
     "execution_count": 27,
     "metadata": {},
     "output_type": "execute_result"
    }
   ],
   "source": [
    "# random.rand() creates an array of values betweem 0 and 1 - receiving values as dimensions for the shape\n",
    "sample_array_10 = np.random.rand(2,3)\n",
    "sample_array_10"
   ]
  },
  {
   "cell_type": "code",
   "execution_count": 28,
   "id": "9bc02e50-9efd-4fea-9243-b7fd82d336d1",
   "metadata": {},
   "outputs": [],
   "source": [
    "# Regarding np.random.seed() it turns the pseudo-random numbers fixed for the current cell where seed is manually defined. \n",
    "# This way it keeps generating those same pseudo-numbers for anyone who executes the same project, while, when seed is not defined, \n",
    "# the system changes the seed automatically before each execution, in order for the numbers to be different everytime the project runs."
   ]
  },
  {
   "cell_type": "code",
   "execution_count": 29,
   "id": "8b47973c-f2f8-4d59-80a7-b77141888ca0",
   "metadata": {},
   "outputs": [
    {
     "data": {
      "text/plain": [
       "array([[44, 47, 64, 67],\n",
       "       [67,  9, 83, 21],\n",
       "       [36, 87, 70, 88]])"
      ]
     },
     "execution_count": 29,
     "metadata": {},
     "output_type": "execute_result"
    }
   ],
   "source": [
    "np.random.seed(seed=0)\n",
    "sample_array_11 = np.random.randint(100, size=(3,4))\n",
    "sample_array_11"
   ]
  },
  {
   "cell_type": "code",
   "execution_count": 30,
   "id": "7a45b80a-8fbf-4cc2-ac67-18c43a614623",
   "metadata": {},
   "outputs": [
    {
     "data": {
      "text/plain": [
       "array([[0.8734294 , 0.96854066, 0.86919454, 0.53085569],\n",
       "       [0.23272833, 0.0113988 , 0.43046882, 0.40235136],\n",
       "       [0.52267467, 0.4783918 , 0.55535647, 0.54338602]])"
      ]
     },
     "execution_count": 30,
     "metadata": {},
     "output_type": "execute_result"
    }
   ],
   "source": [
    "np.random.seed(seed=8)\n",
    "sample_array_12 = np.random.rand(3,4)\n",
    "sample_array_12"
   ]
  },
  {
   "cell_type": "code",
   "execution_count": 31,
   "id": "594d98af-6d10-40c0-a50d-bd33d33beebc",
   "metadata": {},
   "outputs": [
    {
     "data": {
      "text/plain": [
       "array([ 9, 21, 36, 44, 47, 64, 67, 70, 83, 87, 88])"
      ]
     },
     "execution_count": 31,
     "metadata": {},
     "output_type": "execute_result"
    }
   ],
   "source": [
    "# random.unique() returns an ordered list with the unique elements of an array passed as argument\n",
    "np.unique(sample_array_11)"
   ]
  },
  {
   "cell_type": "markdown",
   "id": "00e194e2-2d8e-46de-a6b6-9d68193b056d",
   "metadata": {},
   "source": [
    "## Selecting and viewing values from Arrays and Matrices"
   ]
  },
  {
   "cell_type": "code",
   "execution_count": 32,
   "id": "6d08d133-5b9c-4b7e-a15f-92b0545cc7a3",
   "metadata": {},
   "outputs": [
    {
     "data": {
      "text/plain": [
       "array([[[[44, 47, 64, 67, 67],\n",
       "         [ 9, 83, 21, 36, 87],\n",
       "         [70, 88, 88, 12, 58],\n",
       "         [65, 39, 87, 46, 88]],\n",
       "\n",
       "        [[81, 37, 25, 77, 72],\n",
       "         [ 9, 20, 80, 69, 79],\n",
       "         [47, 64, 82, 99, 88],\n",
       "         [49, 29, 19, 19, 14]],\n",
       "\n",
       "        [[39, 32, 65,  9, 57],\n",
       "         [32, 31, 74, 23, 35],\n",
       "         [75, 55, 28, 34,  0],\n",
       "         [ 0, 36, 53,  5, 38]]],\n",
       "\n",
       "\n",
       "       [[[17, 79,  4, 42, 58],\n",
       "         [31,  1, 65, 41, 57],\n",
       "         [35, 11, 46, 82, 91],\n",
       "         [ 0, 14, 99, 53, 12]],\n",
       "\n",
       "        [[42, 84, 75, 68,  6],\n",
       "         [68, 47,  3, 76, 52],\n",
       "         [78, 15, 20, 99, 58],\n",
       "         [23, 79, 13, 85, 48]],\n",
       "\n",
       "        [[49, 69, 41, 35, 64],\n",
       "         [95, 69, 94,  0, 50],\n",
       "         [36, 34, 48, 93,  3],\n",
       "         [98, 42, 77, 21, 73]]]])"
      ]
     },
     "execution_count": 32,
     "metadata": {},
     "output_type": "execute_result"
    }
   ],
   "source": [
    "# For the following 4D array (matrix) we have 4 dimensions or 4 axis:\n",
    "# axis=3 or d3 (innermost []) having 5 elements (each element being a single int)\n",
    "# axis=2 or d2 (rows of axis=3 int elements) having 4 elements (each element being each row)\n",
    "# axis=1 or d1 (blocks of rows of axis=2) having 3 elements (each element being each block or matrix)\n",
    "# axis=0 or d0 (outermost []) (blocks of blocks of axis=1) having 2 elements (each element being each block of blocks or \n",
    "# matrix of matrices)\n",
    "# so that, d3 has 5 int elements, d2 has 4 row elements, d1 has 3 matrices of rows and d0 has 2 matrices of matrices\n",
    "# the innermost [] contains the highest dimension elements (4th dimension or d3 or axis=3), while the outermost [] contains the \n",
    "# lowest dimension elements (1st dimension or d0 or axis=0).\n",
    "np.random.seed(0)\n",
    "sample_array_13 = np.random.randint(100, size=(2,3,4,5))\n",
    "sample_array_13"
   ]
  },
  {
   "cell_type": "code",
   "execution_count": 33,
   "id": "cb06a0f9-1600-4629-84a0-971870ac159d",
   "metadata": {},
   "outputs": [
    {
     "data": {
      "text/plain": [
       "((2, 3, 4, 5), 4)"
      ]
     },
     "execution_count": 33,
     "metadata": {},
     "output_type": "execute_result"
    }
   ],
   "source": [
    "sample_array_13.shape, sample_array_13.ndim"
   ]
  },
  {
   "cell_type": "code",
   "execution_count": 34,
   "id": "31eb5dcf-2596-473b-b5b6-afd817a22c92",
   "metadata": {},
   "outputs": [],
   "source": [
    "# For viewing arrays and matrices by using indexes [], you can either ask for a specific single index or for a slice (interval of indexes) \n",
    "# of the values at each respective dimension.\n",
    "# For a 4D array (matrix), when using the selection by using the index call, there'll be 4 dimensions or 4 index space values to be set at \n",
    "# the selection function call, respectively for the 1st (d0) (outermost [] at the array), 2nd (d1), 3rd (d2) and 4th (d3) \n",
    "# (innermost [] at the array) dimensions."
   ]
  },
  {
   "cell_type": "code",
   "execution_count": 35,
   "id": "6bb1de90-8758-464a-9771-f972048b40cb",
   "metadata": {},
   "outputs": [
    {
     "data": {
      "text/plain": [
       "array([[[44,  9, 70, 65],\n",
       "        [81,  9, 47, 49],\n",
       "        [39, 32, 75,  0]],\n",
       "\n",
       "       [[17, 31, 35,  0],\n",
       "        [42, 68, 78, 23],\n",
       "        [49, 95, 36, 98]]])"
      ]
     },
     "execution_count": 35,
     "metadata": {},
     "output_type": "execute_result"
    }
   ],
   "source": [
    "# e.g. if you ask for all values on dimensions d0, d1 and d2, but only for the [0]-indexed values at dimension d3 (that is, the single \n",
    "# numbers at the innermost []), then the 4D matrix will be reduced to a 3D matrix, and from each set of 5 elements from d3 only the \n",
    "# [0]-indexed values will be returned... and, as all 4 elements (i.e. 4 rows) from d2 were asked, you'll have returned the [0]-indexed \n",
    "# int values from d3 for each row of d2 (for instance: (44, 9, 70, 65)), for each of the 3 blocks of rows of d1 \n",
    "# and for each of the 2 blocks of blocks of rows of d0 (outermost []). That will change the 4D (size=(2,3,4,5))) to the 3D (size=(2,3,4)) \n",
    "# matrix below. A similar analysis can be done for different dimension-number arrays and/or for different index-based requested values.\n",
    "sample_array_13[:,:,:,0]"
   ]
  },
  {
   "cell_type": "code",
   "execution_count": 36,
   "id": "ec8ae6f9-311e-48c3-8113-aa1e453429ed",
   "metadata": {},
   "outputs": [
    {
     "data": {
      "text/plain": [
       "array([[[[44, 47],\n",
       "         [ 9, 83],\n",
       "         [70, 88],\n",
       "         [65, 39]],\n",
       "\n",
       "        [[81, 37],\n",
       "         [ 9, 20],\n",
       "         [47, 64],\n",
       "         [49, 29]],\n",
       "\n",
       "        [[39, 32],\n",
       "         [32, 31],\n",
       "         [75, 55],\n",
       "         [ 0, 36]]],\n",
       "\n",
       "\n",
       "       [[[17, 79],\n",
       "         [31,  1],\n",
       "         [35, 11],\n",
       "         [ 0, 14]],\n",
       "\n",
       "        [[42, 84],\n",
       "         [68, 47],\n",
       "         [78, 15],\n",
       "         [23, 79]],\n",
       "\n",
       "        [[49, 69],\n",
       "         [95, 69],\n",
       "         [36, 34],\n",
       "         [98, 42]]]])"
      ]
     },
     "execution_count": 36,
     "metadata": {},
     "output_type": "execute_result"
    }
   ],
   "source": [
    "# For the same 4D array (matrix) above, instead of a specific single index at d3, we can use slice to ask for an interval of indexes.\n",
    "# We can, for instance, ask for [0] and [1] elements of d3 as below. Observe that now we have a 4D array (as the original one), but \n",
    "# from the 5 elements at d3 (at each row) only [0] and [1]-indexed values are returned. Remember that, for slicing, the \"stop\" value is \n",
    "# exclusive, so [0:2] would be the slice for getting [0] and [1] (but not [2]) values of d3. In this case we're also using slice for\n",
    "# d0, d1 and d2, but getting all elements from them with \":\" (i.e. from the first until the last of the elements of these dimensions),\n",
    "# constraining the selection only at d3... for simplicity. Of course you could constrain the selection of elements of one, more or all\n",
    "# dimensions here.\n",
    "sample_array_13[:,:,:,0:2]"
   ]
  },
  {
   "cell_type": "code",
   "execution_count": 37,
   "id": "aff79149-4300-4eea-bfcf-8a695503ab40",
   "metadata": {},
   "outputs": [],
   "source": [
    "# Another example:"
   ]
  },
  {
   "cell_type": "code",
   "execution_count": 38,
   "id": "be03989c-435c-419a-b119-078743b0020f",
   "metadata": {},
   "outputs": [
    {
     "data": {
      "text/plain": [
       "array([[[24,  3, 56, 72],\n",
       "        [ 0, 21, 19, 74],\n",
       "        [41, 10, 21, 38]],\n",
       "\n",
       "       [[96, 20, 44, 93],\n",
       "        [39, 14, 26, 81],\n",
       "        [90, 22, 66,  2]]])"
      ]
     },
     "execution_count": 38,
     "metadata": {},
     "output_type": "execute_result"
    }
   ],
   "source": [
    "# For the following 3D array (matrix) we have 3 dimensions or 3 axis:\n",
    "# axis=2 or d2 (innermost []) having 4 elements (each element being a single int)\n",
    "# axis=1 or d1 (rows of axis=2 int elements) having 3 elements (each element being each row)\n",
    "# axis=0 or d0 (outermost []) (blocks of rows of axis=1) having 2 elements (each element being each block or matrix)\n",
    "# so that, d2 has 4 int elements, d1 has 3 row elements and d0 has 2 matrices of rows\n",
    "# the innermost [] contains the highest dimension elements (3rd dimension or d2 or axis=2), while the outermost [] contains the \n",
    "# lowest dimension elements (1st dimension or d0 or axis=0).\n",
    "np.random.seed(3)\n",
    "sample_array_14 = np.random.randint(100,size=(2,3,4))\n",
    "sample_array_14"
   ]
  },
  {
   "cell_type": "code",
   "execution_count": 39,
   "id": "1d1d8a35-ccf8-46d0-9156-b98f5c7a5c45",
   "metadata": {},
   "outputs": [
    {
     "data": {
      "text/plain": [
       "array([[24,  0, 41],\n",
       "       [96, 39, 90]])"
      ]
     },
     "execution_count": 39,
     "metadata": {},
     "output_type": "execute_result"
    }
   ],
   "source": [
    "# viewing only [0]-indexed elements from d2 and all elements at other dimensions. It'll return a matrix reduced from 3D (size=(2,3,4))to \n",
    "# 2D (size=(2,3)), where the rows will contain the [0]-indexed values from d2 of the original array (matrix).\n",
    "sample_array_14[:,:,0]"
   ]
  },
  {
   "cell_type": "code",
   "execution_count": 40,
   "id": "c2b32f9b-dd84-4027-8386-75dcd6f9ca62",
   "metadata": {},
   "outputs": [
    {
     "data": {
      "text/plain": [
       "array([[[24,  3],\n",
       "        [ 0, 21],\n",
       "        [41, 10]],\n",
       "\n",
       "       [[96, 20],\n",
       "        [39, 14],\n",
       "        [90, 22]]])"
      ]
     },
     "execution_count": 40,
     "metadata": {},
     "output_type": "execute_result"
    }
   ],
   "source": [
    "# viewing [0] and [1]-indexed elements from d2 and all elements from other dimensions. It keeps the matrix as a 3D array but only shows\n",
    "# the first two elements from each row at d2 (from the original array (matrix)):\n",
    "sample_array_14[:,:,0:2]"
   ]
  },
  {
   "cell_type": "code",
   "execution_count": 41,
   "id": "64d299c3-1ab0-4ff6-b27b-c92b56678697",
   "metadata": {},
   "outputs": [
    {
     "data": {
      "text/plain": [
       "array([[24,  3],\n",
       "       [ 0, 21]])"
      ]
     },
     "execution_count": 41,
     "metadata": {},
     "output_type": "execute_result"
    }
   ],
   "source": [
    "# slicing other dimensions other than d2, we can, for instance, select only [0] and [1] at d2, only [0] and [1] at d1 and only [0] at d0:\n",
    "sample_array_14[0,0:2,0:2]"
   ]
  },
  {
   "cell_type": "code",
   "execution_count": 42,
   "id": "997fbd1a-949b-4067-a093-5909767d6f94",
   "metadata": {},
   "outputs": [],
   "source": [
    "# for 2D (d0,d1) and 1D (d0) arrays, we have very similar approaches and result analysis."
   ]
  },
  {
   "cell_type": "markdown",
   "id": "47573d38-4347-4d6f-88c1-b563002a74a7",
   "metadata": {},
   "source": [
    "## Manipulating and Comparing Arrays"
   ]
  },
  {
   "cell_type": "markdown",
   "id": "7ace1636-242c-41c2-b7c0-e999d8e223ab",
   "metadata": {},
   "source": [
    "### Arithmetic"
   ]
  },
  {
   "cell_type": "code",
   "execution_count": 43,
   "id": "8a84179e-dff8-4787-ad7c-af42940895b3",
   "metadata": {},
   "outputs": [
    {
     "data": {
      "text/plain": [
       "array([1, 2, 3])"
      ]
     },
     "execution_count": 43,
     "metadata": {},
     "output_type": "execute_result"
    }
   ],
   "source": [
    "array_1"
   ]
  },
  {
   "cell_type": "code",
   "execution_count": 44,
   "id": "db51dcac-809a-4d7a-ad90-937bbb2737f2",
   "metadata": {},
   "outputs": [
    {
     "data": {
      "text/plain": [
       "array([1, 1, 1])"
      ]
     },
     "execution_count": 44,
     "metadata": {},
     "output_type": "execute_result"
    }
   ],
   "source": [
    "ones_array = np.ones(3, dtype=int)\n",
    "ones_array"
   ]
  },
  {
   "cell_type": "code",
   "execution_count": 45,
   "id": "300adb28-12a8-4487-ae7c-3c64de5b9a08",
   "metadata": {},
   "outputs": [
    {
     "data": {
      "text/plain": [
       "array([2, 3, 4])"
      ]
     },
     "execution_count": 45,
     "metadata": {},
     "output_type": "execute_result"
    }
   ],
   "source": [
    "# sum of arrays - sums up each respective position value\n",
    "array_1 + ones_array"
   ]
  },
  {
   "cell_type": "code",
   "execution_count": 46,
   "id": "ee1d5e47-3b7d-41b5-9f1f-97cd4ae43dce",
   "metadata": {},
   "outputs": [
    {
     "data": {
      "text/plain": [
       "array([0, 1, 2])"
      ]
     },
     "execution_count": 46,
     "metadata": {},
     "output_type": "execute_result"
    }
   ],
   "source": [
    "# subtraction of arrays - subtracts each value at the 2nd array from the respective position value at the first\n",
    "array_1 - ones_array"
   ]
  },
  {
   "cell_type": "code",
   "execution_count": 47,
   "id": "e3b2d6a7-8865-4c78-b85b-8bb727de0005",
   "metadata": {},
   "outputs": [
    {
     "data": {
      "text/plain": [
       "array([1, 2, 3])"
      ]
     },
     "execution_count": 47,
     "metadata": {},
     "output_type": "execute_result"
    }
   ],
   "source": [
    "# multiplication of arrays - multiplies corresponding position values at two arrays\n",
    "array_1 * ones_array"
   ]
  },
  {
   "cell_type": "code",
   "execution_count": 48,
   "id": "cf8b515e-f18e-4f7f-af7c-7a0f9dca5cba",
   "metadata": {},
   "outputs": [
    {
     "data": {
      "text/plain": [
       "array([[1, 2, 3],\n",
       "       [4, 5, 6]])"
      ]
     },
     "execution_count": 48,
     "metadata": {},
     "output_type": "execute_result"
    }
   ],
   "source": [
    "array_2"
   ]
  },
  {
   "cell_type": "code",
   "execution_count": 49,
   "id": "cc857f94-756d-48b7-bfcf-6a6d6ff967ba",
   "metadata": {},
   "outputs": [
    {
     "data": {
      "text/plain": [
       "array([[ 1,  4,  9],\n",
       "       [ 4, 10, 18]])"
      ]
     },
     "execution_count": 49,
     "metadata": {},
     "output_type": "execute_result"
    }
   ],
   "source": [
    "array_1 * array_2"
   ]
  },
  {
   "cell_type": "code",
   "execution_count": 50,
   "id": "a419201f-bc71-44af-bf0c-a0e6f1202f25",
   "metadata": {},
   "outputs": [
    {
     "data": {
      "text/plain": [
       "array([[[ 1,  2,  3],\n",
       "        [ 4,  5,  6],\n",
       "        [ 7,  8,  9]],\n",
       "\n",
       "       [[10, 11, 12],\n",
       "        [13, 14, 15],\n",
       "        [16, 17, 18]],\n",
       "\n",
       "       [[19, 20, 21],\n",
       "        [22, 23, 24],\n",
       "        [25, 26, 27]]])"
      ]
     },
     "execution_count": 50,
     "metadata": {},
     "output_type": "execute_result"
    }
   ],
   "source": [
    "array_3"
   ]
  },
  {
   "cell_type": "code",
   "execution_count": 51,
   "id": "3bb95e70-9bb7-4f87-9eab-ae568bdead9e",
   "metadata": {},
   "outputs": [],
   "source": [
    "# numpy does array multiplication via broadcasting. For broadcasting to be possible, some prerequisites must be met, in terms of the shape \n",
    "# of the arrayrs being multiplied. The arrays below, for instance, are not broadcastable:\n",
    "# array_2 * array_3\n",
    "# So, in order for broadcasting to be possible, these arrays would have to be reshaped to turn broadcasting possible during multiplication.\n",
    "# Not all pairs of arrays can be reshaped to compatible shapes.\n",
    "# There's a section below (Reshaping and Transposing - Broadcasting) showing how to do just that."
   ]
  },
  {
   "cell_type": "code",
   "execution_count": 52,
   "id": "031492a6-51cc-4bfb-95be-f582bc4583d5",
   "metadata": {},
   "outputs": [
    {
     "data": {
      "text/plain": [
       "array([1., 2., 3.])"
      ]
     },
     "execution_count": 52,
     "metadata": {},
     "output_type": "execute_result"
    }
   ],
   "source": [
    "array_1 / ones_array"
   ]
  },
  {
   "cell_type": "code",
   "execution_count": 53,
   "id": "f6a827c7-a624-481d-8060-6779a1c34453",
   "metadata": {},
   "outputs": [
    {
     "data": {
      "text/plain": [
       "array([[1. , 1. , 1. ],\n",
       "       [4. , 2.5, 2. ]])"
      ]
     },
     "execution_count": 53,
     "metadata": {},
     "output_type": "execute_result"
    }
   ],
   "source": [
    "array_2 / array_1"
   ]
  },
  {
   "cell_type": "code",
   "execution_count": 54,
   "id": "081a4973-c56c-45ad-83fe-2624d434fd96",
   "metadata": {},
   "outputs": [
    {
     "data": {
      "text/plain": [
       "array([[1, 1, 1],\n",
       "       [4, 2, 2]])"
      ]
     },
     "execution_count": 54,
     "metadata": {},
     "output_type": "execute_result"
    }
   ],
   "source": [
    "array_2 // array_1"
   ]
  },
  {
   "cell_type": "code",
   "execution_count": 55,
   "id": "2205732e-3b8a-4d08-8169-52f92db1040e",
   "metadata": {},
   "outputs": [
    {
     "data": {
      "text/plain": [
       "array([[ 1,  4,  9],\n",
       "       [16, 25, 36]])"
      ]
     },
     "execution_count": 55,
     "metadata": {},
     "output_type": "execute_result"
    }
   ],
   "source": [
    "array_2 ** 2"
   ]
  },
  {
   "cell_type": "code",
   "execution_count": 56,
   "id": "bb750d16-723b-4634-8209-d81ab6087ebc",
   "metadata": {},
   "outputs": [
    {
     "data": {
      "text/plain": [
       "array([[  1,   4,  27],\n",
       "       [  1,  32, 729]])"
      ]
     },
     "execution_count": 56,
     "metadata": {},
     "output_type": "execute_result"
    }
   ],
   "source": [
    "array_1 ** array_2"
   ]
  },
  {
   "cell_type": "code",
   "execution_count": 57,
   "id": "a99f9455-e6f5-4746-adab-26105a4546b0",
   "metadata": {},
   "outputs": [
    {
     "data": {
      "text/plain": [
       "array([[ 1,  4,  9],\n",
       "       [16, 25, 36]])"
      ]
     },
     "execution_count": 57,
     "metadata": {},
     "output_type": "execute_result"
    }
   ],
   "source": [
    "np.square(array_2)"
   ]
  },
  {
   "cell_type": "code",
   "execution_count": 58,
   "id": "a3a074ef-261a-451c-86f7-7171349f55af",
   "metadata": {},
   "outputs": [
    {
     "data": {
      "text/plain": [
       "array([2, 3, 4])"
      ]
     },
     "execution_count": 58,
     "metadata": {},
     "output_type": "execute_result"
    }
   ],
   "source": [
    "np.add(array_1, ones_array)"
   ]
  },
  {
   "cell_type": "code",
   "execution_count": 59,
   "id": "bf84475f-9c6f-4ed3-96c9-963c88d7a9cb",
   "metadata": {},
   "outputs": [
    {
     "data": {
      "text/plain": [
       "array([[0, 0, 0],\n",
       "       [0, 1, 0]])"
      ]
     },
     "execution_count": 59,
     "metadata": {},
     "output_type": "execute_result"
    }
   ],
   "source": [
    "array_2 % array_1"
   ]
  },
  {
   "cell_type": "code",
   "execution_count": 60,
   "id": "91cb637f-b32f-46ad-a490-f3f926cd0986",
   "metadata": {},
   "outputs": [
    {
     "data": {
      "text/plain": [
       "array([[0, 0, 0],\n",
       "       [0, 1, 0]])"
      ]
     },
     "execution_count": 60,
     "metadata": {},
     "output_type": "execute_result"
    }
   ],
   "source": [
    "np.mod(array_2, array_1)"
   ]
  },
  {
   "cell_type": "code",
   "execution_count": 61,
   "id": "dab439b4-b10d-4b3d-900c-878c8bc36871",
   "metadata": {},
   "outputs": [
    {
     "data": {
      "text/plain": [
       "array([ 2.71828183,  7.3890561 , 20.08553692])"
      ]
     },
     "execution_count": 61,
     "metadata": {},
     "output_type": "execute_result"
    }
   ],
   "source": [
    "np.exp(array_1)"
   ]
  },
  {
   "cell_type": "code",
   "execution_count": 62,
   "id": "b2f80316-09f3-4eaf-b659-777abdc3125c",
   "metadata": {},
   "outputs": [
    {
     "data": {
      "text/plain": [
       "array([0.        , 0.69314718, 1.09861229])"
      ]
     },
     "execution_count": 62,
     "metadata": {},
     "output_type": "execute_result"
    }
   ],
   "source": [
    "np.log(array_1)"
   ]
  },
  {
   "cell_type": "markdown",
   "id": "f6c653c1-16ec-4659-8769-9f581d2847c0",
   "metadata": {},
   "source": [
    "### Aggregation"
   ]
  },
  {
   "cell_type": "code",
   "execution_count": 63,
   "id": "accae83e-a742-4320-b5c8-64ed71a766eb",
   "metadata": {},
   "outputs": [
    {
     "data": {
      "text/plain": [
       "(100000, (100000,))"
      ]
     },
     "execution_count": 63,
     "metadata": {},
     "output_type": "execute_result"
    }
   ],
   "source": [
    "array_massive = np.random.random(100000)\n",
    "array_massive.size, array_massive.shape"
   ]
  },
  {
   "cell_type": "code",
   "execution_count": 64,
   "id": "67bcbc29-84f6-453c-b48d-56b43aa1aa3b",
   "metadata": {},
   "outputs": [
    {
     "data": {
      "text/plain": [
       "array([0.91330145, 0.76582638, 0.97364827, 0.40236064, 0.55277195,\n",
       "       0.30636063, 0.58661997, 0.27492011, 0.45460777, 0.75766525])"
      ]
     },
     "execution_count": 64,
     "metadata": {},
     "output_type": "execute_result"
    }
   ],
   "source": [
    "array_massive[:10]"
   ]
  },
  {
   "cell_type": "code",
   "execution_count": 65,
   "id": "29665e4c-b33d-4823-a06c-813bfcfbe1f9",
   "metadata": {},
   "outputs": [
    {
     "name": "stdout",
     "output_type": "stream",
     "text": [
      "5.45 ms ± 133 µs per loop (mean ± std. dev. of 7 runs, 100 loops each)\n",
      "22.2 µs ± 450 ns per loop (mean ± std. dev. of 7 runs, 10,000 loops each)\n"
     ]
    }
   ],
   "source": [
    "# when using numpy datatyptes, use also numpy aggregation functions (instead of python's) for maximum efficiency, specially when dealing with big sized structures\n",
    "%timeit sum(array_massive) # Python's sum()\n",
    "%timeit np.sum(array_massive) # NumPy's np.sum()\n",
    "# at the tested machine, the second method above (numpy's) was 222x faster than the first one (python's), for instance."
   ]
  },
  {
   "cell_type": "code",
   "execution_count": 66,
   "id": "d58b765f-8613-44f0-bd70-3482b2af6875",
   "metadata": {},
   "outputs": [
    {
     "data": {
      "text/plain": [
       "array([[1, 2, 3],\n",
       "       [4, 5, 6]])"
      ]
     },
     "execution_count": 66,
     "metadata": {},
     "output_type": "execute_result"
    }
   ],
   "source": [
    "array_2"
   ]
  },
  {
   "cell_type": "code",
   "execution_count": 67,
   "id": "b0a1f9c0-dae1-45ce-9a07-3a0fad1ec074",
   "metadata": {},
   "outputs": [
    {
     "data": {
      "text/plain": [
       "3.5"
      ]
     },
     "execution_count": 67,
     "metadata": {},
     "output_type": "execute_result"
    }
   ],
   "source": [
    "np.mean(array_2)"
   ]
  },
  {
   "cell_type": "code",
   "execution_count": 68,
   "id": "b730014d-1929-4000-a096-6022e9f58087",
   "metadata": {},
   "outputs": [
    {
     "data": {
      "text/plain": [
       "6"
      ]
     },
     "execution_count": 68,
     "metadata": {},
     "output_type": "execute_result"
    }
   ],
   "source": [
    "np.max(array_2)"
   ]
  },
  {
   "cell_type": "code",
   "execution_count": 69,
   "id": "774cbc3e-6598-4c25-b988-5598c7bb66ff",
   "metadata": {},
   "outputs": [
    {
     "data": {
      "text/plain": [
       "1"
      ]
     },
     "execution_count": 69,
     "metadata": {},
     "output_type": "execute_result"
    }
   ],
   "source": [
    "np.min(array_2)"
   ]
  },
  {
   "cell_type": "code",
   "execution_count": 70,
   "id": "c1b309a8-89f2-4d8a-a4ee-94dc1a8af0c4",
   "metadata": {},
   "outputs": [
    {
     "data": {
      "text/plain": [
       "1.707825127659933"
      ]
     },
     "execution_count": 70,
     "metadata": {},
     "output_type": "execute_result"
    }
   ],
   "source": [
    "np.std(array_2) # standard deviation taking all elements"
   ]
  },
  {
   "cell_type": "code",
   "execution_count": 71,
   "id": "8e802467-c803-478d-9e82-2b9fc99f9c51",
   "metadata": {},
   "outputs": [
    {
     "data": {
      "text/plain": [
       "array([1.5, 1.5, 1.5])"
      ]
     },
     "execution_count": 71,
     "metadata": {},
     "output_type": "execute_result"
    }
   ],
   "source": [
    "np.std(array_2, axis=0) # standard deviation taking each column's elements"
   ]
  },
  {
   "cell_type": "code",
   "execution_count": 72,
   "id": "e5b27a94-bd49-45a5-9425-dbc65820ef8a",
   "metadata": {},
   "outputs": [
    {
     "data": {
      "text/plain": [
       "array([0.81649658, 0.81649658])"
      ]
     },
     "execution_count": 72,
     "metadata": {},
     "output_type": "execute_result"
    }
   ],
   "source": [
    "np.std(array_2, axis=1) # standard deviation taking each row's elements"
   ]
  },
  {
   "cell_type": "code",
   "execution_count": 73,
   "id": "e3bfe266-c16f-4220-8b39-83228f789d0d",
   "metadata": {},
   "outputs": [
    {
     "data": {
      "text/plain": [
       "2.9166666666666665"
      ]
     },
     "execution_count": 73,
     "metadata": {},
     "output_type": "execute_result"
    }
   ],
   "source": [
    "np.var(array_2) # standard deviation is the square root of the variance"
   ]
  },
  {
   "cell_type": "code",
   "execution_count": 74,
   "id": "adf770f9-0a22-409c-9b59-2a873a9c35f2",
   "metadata": {},
   "outputs": [
    {
     "data": {
      "text/plain": [
       "True"
      ]
     },
     "execution_count": 74,
     "metadata": {},
     "output_type": "execute_result"
    }
   ],
   "source": [
    "np.sqrt(np.var(array_2)) == np.std(array_2)"
   ]
  },
  {
   "cell_type": "markdown",
   "id": "911a6529-990d-4ebf-96ba-e2e2a5ef1f3b",
   "metadata": {},
   "source": [
    "### Reshaping and Transposing"
   ]
  },
  {
   "cell_type": "code",
   "execution_count": 75,
   "id": "7fb6259e-2ebf-4804-bd29-0502dad9a494",
   "metadata": {},
   "outputs": [],
   "source": [
    "# for arrays to be multiplied (broadcastable), they must have exactly the same shape (same dimensions and same number of elements on each of \n",
    "# these dimensions) or their shape can be different as long as they have the same dimensions and, at the dimensions that are different, the \n",
    "# number of elements at one of the arrays is 1 for that dimension."
   ]
  },
  {
   "cell_type": "code",
   "execution_count": 76,
   "id": "aeee3f56-ccc1-41a5-a6be-94f431a26f27",
   "metadata": {},
   "outputs": [
    {
     "data": {
      "text/plain": [
       "array([[1, 2, 3],\n",
       "       [4, 5, 6]])"
      ]
     },
     "execution_count": 76,
     "metadata": {},
     "output_type": "execute_result"
    }
   ],
   "source": [
    "array_2"
   ]
  },
  {
   "cell_type": "code",
   "execution_count": 77,
   "id": "205e3135-5e70-47c5-9e3b-d5b6623f978f",
   "metadata": {},
   "outputs": [
    {
     "data": {
      "text/plain": [
       "(2, 3)"
      ]
     },
     "execution_count": 77,
     "metadata": {},
     "output_type": "execute_result"
    }
   ],
   "source": [
    "array_2.shape"
   ]
  },
  {
   "cell_type": "code",
   "execution_count": 78,
   "id": "b5d33256-5b30-44c6-9560-1eb748885c29",
   "metadata": {},
   "outputs": [
    {
     "data": {
      "text/plain": [
       "6"
      ]
     },
     "execution_count": 78,
     "metadata": {},
     "output_type": "execute_result"
    }
   ],
   "source": [
    "np.size(array_2)"
   ]
  },
  {
   "cell_type": "code",
   "execution_count": 79,
   "id": "88e4dd57-dc99-4735-b77f-ebe3932eb7fc",
   "metadata": {},
   "outputs": [
    {
     "data": {
      "text/plain": [
       "array([[44, 47, 64, 67],\n",
       "       [67,  9, 83, 21],\n",
       "       [36, 87, 70, 88]])"
      ]
     },
     "execution_count": 79,
     "metadata": {},
     "output_type": "execute_result"
    }
   ],
   "source": [
    "sample_array_11"
   ]
  },
  {
   "cell_type": "code",
   "execution_count": 80,
   "id": "c56a47e6-ce9f-4c30-b474-daf93d5ca37e",
   "metadata": {},
   "outputs": [
    {
     "data": {
      "text/plain": [
       "(3, 4)"
      ]
     },
     "execution_count": 80,
     "metadata": {},
     "output_type": "execute_result"
    }
   ],
   "source": [
    "sample_array_11.shape"
   ]
  },
  {
   "cell_type": "code",
   "execution_count": 81,
   "id": "001d4fa2-c132-44ae-b73a-165635b79400",
   "metadata": {},
   "outputs": [
    {
     "data": {
      "text/plain": [
       "12"
      ]
     },
     "execution_count": 81,
     "metadata": {},
     "output_type": "execute_result"
    }
   ],
   "source": [
    "np.size(sample_array_11)"
   ]
  },
  {
   "cell_type": "code",
   "execution_count": 82,
   "id": "80335bef-eef2-4803-96c9-7e744597ef4e",
   "metadata": {},
   "outputs": [],
   "source": [
    "# the two arrays above have different sizes (number of elements) and their shapes are not compatible and thus they can't be multiplied \n",
    "# (broadcasted) with such shapes. But they can be reshaped to turn that possible.\n",
    "# Use numpy reshape() to change the shape of an ndarray, when that is possible (it may be not), in order to be able to multiply that \n",
    "# array with other compatible-shape arrays via broadcasting."
   ]
  },
  {
   "cell_type": "code",
   "execution_count": 83,
   "id": "580082a6-1075-4b4c-b0ba-f281f0bf74a4",
   "metadata": {},
   "outputs": [
    {
     "data": {
      "text/plain": [
       "array([[[1],\n",
       "        [2]],\n",
       "\n",
       "       [[3],\n",
       "        [4]],\n",
       "\n",
       "       [[5],\n",
       "        [6]]])"
      ]
     },
     "execution_count": 83,
     "metadata": {},
     "output_type": "execute_result"
    }
   ],
   "source": [
    "array_2_reshaped = array_2.reshape((3,2,1))\n",
    "array_2_reshaped"
   ]
  },
  {
   "cell_type": "code",
   "execution_count": 84,
   "id": "9b847583-9f28-43e3-a475-d4c0d67f483a",
   "metadata": {},
   "outputs": [
    {
     "data": {
      "text/plain": [
       "array([[[44, 47],\n",
       "        [64, 67]],\n",
       "\n",
       "       [[67,  9],\n",
       "        [83, 21]],\n",
       "\n",
       "       [[36, 87],\n",
       "        [70, 88]]])"
      ]
     },
     "execution_count": 84,
     "metadata": {},
     "output_type": "execute_result"
    }
   ],
   "source": [
    "sample_array_11_resehaped = sample_array_11.reshape((3,2,2))\n",
    "sample_array_11_resehaped"
   ]
  },
  {
   "cell_type": "code",
   "execution_count": 85,
   "id": "7a39ebab-cbcf-4a29-a069-d46ec5e4f978",
   "metadata": {},
   "outputs": [],
   "source": [
    "# now, both reshaped arrays can be multiplied - (3,2,1)*(3,2,2), because: d0=3 and d1=2 on both arrays and d2=1 on the first and \n",
    "# whichever other number of elements on the second."
   ]
  },
  {
   "cell_type": "code",
   "execution_count": 86,
   "id": "9d6e0731-e2b8-4299-b4bc-1c7c0e4496fb",
   "metadata": {},
   "outputs": [
    {
     "data": {
      "text/plain": [
       "array([[[ 44,  47],\n",
       "        [128, 134]],\n",
       "\n",
       "       [[201,  27],\n",
       "        [332,  84]],\n",
       "\n",
       "       [[180, 435],\n",
       "        [420, 528]]])"
      ]
     },
     "execution_count": 86,
     "metadata": {},
     "output_type": "execute_result"
    }
   ],
   "source": [
    "np.multiply(array_2_reshaped, sample_array_11_resehaped)"
   ]
  },
  {
   "cell_type": "code",
   "execution_count": 87,
   "id": "6fe283cb-941f-4f6b-b9db-cfe88f67315a",
   "metadata": {},
   "outputs": [],
   "source": [
    "# use \"T\" on an ndarray to transpose (invert) its shape:"
   ]
  },
  {
   "cell_type": "code",
   "execution_count": 88,
   "id": "f9ad81d1-fc57-4edd-8396-f9b0de05ce29",
   "metadata": {},
   "outputs": [
    {
     "data": {
      "text/plain": [
       "array([[1, 2, 3],\n",
       "       [4, 5, 6]])"
      ]
     },
     "execution_count": 88,
     "metadata": {},
     "output_type": "execute_result"
    }
   ],
   "source": [
    "array_2"
   ]
  },
  {
   "cell_type": "code",
   "execution_count": 89,
   "id": "292dd72e-44c4-4571-9b69-d34023e700a9",
   "metadata": {},
   "outputs": [
    {
     "data": {
      "text/plain": [
       "(2, 3)"
      ]
     },
     "execution_count": 89,
     "metadata": {},
     "output_type": "execute_result"
    }
   ],
   "source": [
    "array_2.shape"
   ]
  },
  {
   "cell_type": "code",
   "execution_count": 90,
   "id": "968dc62e-580c-441f-b695-ab2f9dea813f",
   "metadata": {},
   "outputs": [
    {
     "data": {
      "text/plain": [
       "array([[1, 4],\n",
       "       [2, 5],\n",
       "       [3, 6]])"
      ]
     },
     "execution_count": 90,
     "metadata": {},
     "output_type": "execute_result"
    }
   ],
   "source": [
    "array_2.T"
   ]
  },
  {
   "cell_type": "code",
   "execution_count": 91,
   "id": "81cac015-81e1-4141-9aee-348151d01424",
   "metadata": {},
   "outputs": [
    {
     "data": {
      "text/plain": [
       "(3, 2)"
      ]
     },
     "execution_count": 91,
     "metadata": {},
     "output_type": "execute_result"
    }
   ],
   "source": [
    "array_2.T.shape"
   ]
  },
  {
   "cell_type": "code",
   "execution_count": 92,
   "id": "34d7a74c-d0a4-47e1-a3b8-16c7699f05d4",
   "metadata": {},
   "outputs": [
    {
     "data": {
      "text/plain": [
       "array([[1, 2],\n",
       "       [3, 4],\n",
       "       [5, 6]])"
      ]
     },
     "execution_count": 92,
     "metadata": {},
     "output_type": "execute_result"
    }
   ],
   "source": [
    "# The transposed array (matrix) is not necessarily the same as the reshaped one, even for the same shape (the values' positions \n",
    "# may be different)\n",
    "array_2.reshape((3,2))"
   ]
  },
  {
   "cell_type": "markdown",
   "id": "96e3ba33-1215-4a7b-9a65-cde5e521d0a6",
   "metadata": {},
   "source": [
    "### Element-wise versus Dot product array multiplication"
   ]
  },
  {
   "cell_type": "code",
   "execution_count": 93,
   "id": "69d1987c-9a3f-4094-aef5-a78edac434b4",
   "metadata": {},
   "outputs": [],
   "source": [
    "# Differently from the array multiplication shown at the initial \"Manipulating Arrays - Arithmetic\" section, called the element-wise method,\n",
    "# there's the Dot Product multiplication method for array matrices, which is shown below. For Dot Multiplication, the matrices must\n",
    "# also be compatible in shape, which, in this case, means: if Aij x Bmn => 'j' must be equal to 'm'. The resultant matrix will have the \n",
    "# shape (i,n). You can use reshape or transpose to turn two matrices' shapes compatible for Dot Product multiplication, as below:"
   ]
  },
  {
   "cell_type": "code",
   "execution_count": 94,
   "id": "89b39350-abdb-4d30-8410-4216e5bf9fb3",
   "metadata": {},
   "outputs": [
    {
     "data": {
      "text/plain": [
       "array([[5, 0, 3],\n",
       "       [3, 7, 9],\n",
       "       [3, 5, 2]])"
      ]
     },
     "execution_count": 94,
     "metadata": {},
     "output_type": "execute_result"
    }
   ],
   "source": [
    "matrix_1 = np.array([[5,0,3],\n",
    "                    [3,7,9],\n",
    "                    [3,5,2]])\n",
    "matrix_1"
   ]
  },
  {
   "cell_type": "code",
   "execution_count": 95,
   "id": "0304208a-4687-4278-910c-43f9689658c0",
   "metadata": {},
   "outputs": [
    {
     "data": {
      "text/plain": [
       "(3, 3)"
      ]
     },
     "execution_count": 95,
     "metadata": {},
     "output_type": "execute_result"
    }
   ],
   "source": [
    "matrix_1.shape"
   ]
  },
  {
   "cell_type": "code",
   "execution_count": 96,
   "id": "8c063641-761c-47de-844d-2c0ea082233a",
   "metadata": {},
   "outputs": [
    {
     "data": {
      "text/plain": [
       "array([[4, 6, 8],\n",
       "       [7, 8, 1]])"
      ]
     },
     "execution_count": 96,
     "metadata": {},
     "output_type": "execute_result"
    }
   ],
   "source": [
    "matrix_2 = np.array([[4, 6, 8],\n",
    "                    [7, 8, 1]])\n",
    "matrix_2"
   ]
  },
  {
   "cell_type": "code",
   "execution_count": 97,
   "id": "d5839ef4-5c5c-4f47-8f9b-74ae042615e2",
   "metadata": {},
   "outputs": [
    {
     "data": {
      "text/plain": [
       "(2, 3)"
      ]
     },
     "execution_count": 97,
     "metadata": {},
     "output_type": "execute_result"
    }
   ],
   "source": [
    "matrix_2.shape"
   ]
  },
  {
   "cell_type": "code",
   "execution_count": 98,
   "id": "c0f8010f-618e-42d9-b5a3-c19c445db5d1",
   "metadata": {},
   "outputs": [],
   "source": [
    "# matrix_1 x matrix_2 via Dot Product is not possible. But you can transpose matrix_2 so that shapes become compatible:"
   ]
  },
  {
   "cell_type": "code",
   "execution_count": 99,
   "id": "ce20a1cf-ad48-4d3d-b6d3-d35015e8d8a0",
   "metadata": {},
   "outputs": [
    {
     "data": {
      "text/plain": [
       "array([[4, 7],\n",
       "       [6, 8],\n",
       "       [8, 1]])"
      ]
     },
     "execution_count": 99,
     "metadata": {},
     "output_type": "execute_result"
    }
   ],
   "source": [
    "matrix_2_transposed = matrix_2.T\n",
    "matrix_2_transposed"
   ]
  },
  {
   "cell_type": "code",
   "execution_count": 100,
   "id": "3f27639e-6b43-4cac-8d30-c863cb6ca864",
   "metadata": {},
   "outputs": [
    {
     "data": {
      "text/plain": [
       "(3, 2)"
      ]
     },
     "execution_count": 100,
     "metadata": {},
     "output_type": "execute_result"
    }
   ],
   "source": [
    "matrix_2_transposed.shape"
   ]
  },
  {
   "cell_type": "code",
   "execution_count": 101,
   "id": "ac4e1481-f12e-4322-bd01-7a13c90549b8",
   "metadata": {},
   "outputs": [
    {
     "data": {
      "text/plain": [
       "array([[ 44,  38],\n",
       "       [126,  86],\n",
       "       [ 58,  63]])"
      ]
     },
     "execution_count": 101,
     "metadata": {},
     "output_type": "execute_result"
    }
   ],
   "source": [
    "resultant_matrix = np.dot(matrix_1,matrix_2_transposed)\n",
    "resultant_matrix"
   ]
  },
  {
   "cell_type": "code",
   "execution_count": 102,
   "id": "41e9b359-e735-4db1-93a7-6da1502a7e3d",
   "metadata": {},
   "outputs": [
    {
     "data": {
      "text/plain": [
       "(3, 2)"
      ]
     },
     "execution_count": 102,
     "metadata": {},
     "output_type": "execute_result"
    }
   ],
   "source": [
    "resultant_matrix.shape"
   ]
  },
  {
   "cell_type": "code",
   "execution_count": 103,
   "id": "754f0e94-09a7-4d01-8399-80625913455d",
   "metadata": {},
   "outputs": [],
   "source": [
    "# observe that the matrices were compatible in shape after the transposition of matrix_2: matrix_1 (3,3) x matrix_2_T (3,2), and that the resultant\n",
    "# matrix's shape is (3,2)."
   ]
  },
  {
   "cell_type": "markdown",
   "id": "9cda1a96-2483-4bd2-a7be-1f032317561d",
   "metadata": {},
   "source": [
    "### Comparison"
   ]
  },
  {
   "cell_type": "code",
   "execution_count": 104,
   "id": "a3b3d1d0-cf08-408e-afd8-753c538b2242",
   "metadata": {},
   "outputs": [],
   "source": [
    "# comparison between arrays is similar to comparision between numerical values in python; in this case, a resulting ndarray is generated \n",
    "# with the results for the comparisons position versus position between the two arrays:"
   ]
  },
  {
   "cell_type": "code",
   "execution_count": 105,
   "id": "1e4877b0-e115-4616-9d17-ee19611d41ed",
   "metadata": {},
   "outputs": [
    {
     "data": {
      "text/plain": [
       "array([[1, 2, 3],\n",
       "       [4, 5, 6]])"
      ]
     },
     "execution_count": 105,
     "metadata": {},
     "output_type": "execute_result"
    }
   ],
   "source": [
    "array_2"
   ]
  },
  {
   "cell_type": "code",
   "execution_count": 106,
   "id": "8b383ad3-24fc-45cc-a363-fbc19207bfc1",
   "metadata": {},
   "outputs": [
    {
     "data": {
      "text/plain": [
       "array([[0.5488637 , 0.22176657, 0.30475958],\n",
       "       [0.76285422, 0.84889859, 0.38916252]])"
      ]
     },
     "execution_count": 106,
     "metadata": {},
     "output_type": "execute_result"
    }
   ],
   "source": [
    "sample_array_9"
   ]
  },
  {
   "cell_type": "code",
   "execution_count": 107,
   "id": "3aba17a9-f79f-4ba2-92f6-57fe8d80179b",
   "metadata": {},
   "outputs": [
    {
     "data": {
      "text/plain": [
       "array([[ True,  True,  True],\n",
       "       [ True,  True,  True]])"
      ]
     },
     "execution_count": 107,
     "metadata": {},
     "output_type": "execute_result"
    }
   ],
   "source": [
    "array_2 > sample_array_9"
   ]
  },
  {
   "cell_type": "code",
   "execution_count": 108,
   "id": "7c2d46b5-7e2f-44e1-952b-8e2c554a7cac",
   "metadata": {},
   "outputs": [
    {
     "data": {
      "text/plain": [
       "array([[False, False, False],\n",
       "       [False, False, False]])"
      ]
     },
     "execution_count": 108,
     "metadata": {},
     "output_type": "execute_result"
    }
   ],
   "source": [
    "array_2 == sample_array_9"
   ]
  },
  {
   "cell_type": "code",
   "execution_count": 109,
   "id": "bb95f6de-ac3a-45ae-b2f0-2860e47a7612",
   "metadata": {},
   "outputs": [
    {
     "data": {
      "text/plain": [
       "array([[False, False, False],\n",
       "       [False, False, False]])"
      ]
     },
     "execution_count": 109,
     "metadata": {},
     "output_type": "execute_result"
    }
   ],
   "source": [
    "array_2 <= sample_array_9"
   ]
  },
  {
   "cell_type": "code",
   "execution_count": 110,
   "id": "ca073d87-623d-4397-ad59-0577d08a68d2",
   "metadata": {},
   "outputs": [
    {
     "data": {
      "text/plain": [
       "array([1, 2, 3])"
      ]
     },
     "execution_count": 110,
     "metadata": {},
     "output_type": "execute_result"
    }
   ],
   "source": [
    "array_1"
   ]
  },
  {
   "cell_type": "code",
   "execution_count": 111,
   "id": "52113634-88de-4b6a-a1cb-b4035f3aee5e",
   "metadata": {},
   "outputs": [
    {
     "data": {
      "text/plain": [
       "array([[ True,  True,  True],\n",
       "       [False, False, False]])"
      ]
     },
     "execution_count": 111,
     "metadata": {},
     "output_type": "execute_result"
    }
   ],
   "source": [
    "array_1 == array_2"
   ]
  },
  {
   "cell_type": "markdown",
   "id": "b580176f-42b8-4144-99d0-665d11083ef3",
   "metadata": {},
   "source": [
    "### Sorting Arrays"
   ]
  },
  {
   "cell_type": "code",
   "execution_count": 116,
   "id": "79f5ed58-08c6-4dd9-b19e-c44d5e892f32",
   "metadata": {},
   "outputs": [],
   "source": [
    "# you can suffle all elements of an ndarray (not only the first axis, but all) by creating a random_generator instance and \n",
    "# calling permuted() method"
   ]
  },
  {
   "cell_type": "code",
   "execution_count": 118,
   "id": "196a73fd-0012-4b90-baba-4ff93ef7b466",
   "metadata": {},
   "outputs": [
    {
     "data": {
      "text/plain": [
       "array([[[ 1,  2,  3],\n",
       "        [ 4,  5,  6],\n",
       "        [ 7,  8,  9]],\n",
       "\n",
       "       [[10, 11, 12],\n",
       "        [13, 14, 15],\n",
       "        [16, 17, 18]],\n",
       "\n",
       "       [[19, 20, 21],\n",
       "        [22, 23, 24],\n",
       "        [25, 26, 27]]])"
      ]
     },
     "execution_count": 118,
     "metadata": {},
     "output_type": "execute_result"
    }
   ],
   "source": [
    "array_3"
   ]
  },
  {
   "cell_type": "code",
   "execution_count": 114,
   "id": "fa60f613-7680-46e8-b46c-3a6085008761",
   "metadata": {},
   "outputs": [],
   "source": [
    "random_generator = np.random.default_rng()"
   ]
  },
  {
   "cell_type": "code",
   "execution_count": 120,
   "id": "0840a782-9778-4402-b84f-37e32aed08fb",
   "metadata": {},
   "outputs": [
    {
     "data": {
      "text/plain": [
       "array([[[13,  2, 16],\n",
       "        [ 9, 24, 21],\n",
       "        [ 7,  4, 27]],\n",
       "\n",
       "       [[17,  6, 18],\n",
       "        [12, 14, 23],\n",
       "        [10,  3,  5]],\n",
       "\n",
       "       [[15, 22, 25],\n",
       "        [ 1, 19,  8],\n",
       "        [26, 11, 20]]])"
      ]
     },
     "execution_count": 120,
     "metadata": {},
     "output_type": "execute_result"
    }
   ],
   "source": [
    "array_3_shuffled = random_generator.permuted(array_3)\n",
    "array_3_shuffled"
   ]
  },
  {
   "cell_type": "code",
   "execution_count": 125,
   "id": "40933f9c-d9e2-405e-88be-edc379140149",
   "metadata": {},
   "outputs": [],
   "source": [
    "# you can sort an array by using the sort() numpy function, specifiying the axis or leaving the default, which is the last axis - \n",
    "# d2 or axis=2 - in this case"
   ]
  },
  {
   "cell_type": "code",
   "execution_count": 135,
   "id": "c13abef0-4bf4-4ce5-a941-6ef70bb5ea09",
   "metadata": {},
   "outputs": [
    {
     "data": {
      "text/plain": [
       "array([[[ 2, 13, 16],\n",
       "        [ 9, 21, 24],\n",
       "        [ 4,  7, 27]],\n",
       "\n",
       "       [[ 6, 17, 18],\n",
       "        [12, 14, 23],\n",
       "        [ 3,  5, 10]],\n",
       "\n",
       "       [[15, 22, 25],\n",
       "        [ 1,  8, 19],\n",
       "        [11, 20, 26]]])"
      ]
     },
     "execution_count": 135,
     "metadata": {},
     "output_type": "execute_result"
    }
   ],
   "source": [
    "np.sort(array_3_shuffled)\n",
    "# same as:\n",
    "# np.sort(array_3_shuffled, axis=2)"
   ]
  },
  {
   "cell_type": "code",
   "execution_count": 127,
   "id": "264f73ab-d8d7-4c53-b8fa-b7f315a93e78",
   "metadata": {},
   "outputs": [],
   "source": [
    "# observe, in the example above, that only d2 elements were sorted amongst themselves, d1 (rows) and d0 (blocks of rows) were not sorted.\n",
    "# you can sort the other dimensions as well setting them explicitly at the sort() call:"
   ]
  },
  {
   "cell_type": "code",
   "execution_count": 136,
   "id": "b77687de-6261-4c5f-9f7b-076294e85cd7",
   "metadata": {},
   "outputs": [
    {
     "data": {
      "text/plain": [
       "array([[[ 7,  2, 16],\n",
       "        [ 9,  4, 21],\n",
       "        [13, 24, 27]],\n",
       "\n",
       "       [[10,  3,  5],\n",
       "        [12,  6, 18],\n",
       "        [17, 14, 23]],\n",
       "\n",
       "       [[ 1, 11,  8],\n",
       "        [15, 19, 20],\n",
       "        [26, 22, 25]]])"
      ]
     },
     "execution_count": 136,
     "metadata": {},
     "output_type": "execute_result"
    }
   ],
   "source": [
    "np.sort(array_3_shuffled, axis=1)"
   ]
  },
  {
   "cell_type": "code",
   "execution_count": 137,
   "id": "188584b3-4adf-4218-8d98-f798a4c187c4",
   "metadata": {},
   "outputs": [],
   "source": [
    "# observe above that not only d0 but d1 elements were scrambled up until d1 level, i.e, numbers were shuffled inside their own row as well as \n",
    "# between different rows of the same block of rows, but not between different blocks. d0 elements did not change."
   ]
  },
  {
   "cell_type": "code",
   "execution_count": 138,
   "id": "75a8fce3-6174-406a-a15c-74b0c0ce9660",
   "metadata": {},
   "outputs": [
    {
     "data": {
      "text/plain": [
       "array([[[13,  2, 16],\n",
       "        [ 1, 14,  8],\n",
       "        [ 7,  3,  5]],\n",
       "\n",
       "       [[15,  6, 18],\n",
       "        [ 9, 19, 21],\n",
       "        [10,  4, 20]],\n",
       "\n",
       "       [[17, 22, 25],\n",
       "        [12, 24, 23],\n",
       "        [26, 11, 27]]])"
      ]
     },
     "execution_count": 138,
     "metadata": {},
     "output_type": "execute_result"
    }
   ],
   "source": [
    "np.sort(array_3_shuffled, axis=0)"
   ]
  },
  {
   "cell_type": "code",
   "execution_count": 140,
   "id": "fc8885cf-959e-4f26-a582-b5d6c063c434",
   "metadata": {},
   "outputs": [],
   "source": [
    "# now, at the example above, all elements from all axis were shuffled, i.e., numbers were swapped inside their own rows (d2), between \n",
    "# different rows (d1) and also between different blocks of rows (d0)."
   ]
  },
  {
   "cell_type": "code",
   "execution_count": null,
   "id": "09c9f385-dd2c-4616-a8bd-8ae0eaf96ef1",
   "metadata": {},
   "outputs": [],
   "source": [
    "# you also can sort the values by getting the corresponding indexes of the values when sorted, i.e., not getting at the output an array\n",
    "# of values but an array of indexes of the values after these being sorted."
   ]
  },
  {
   "cell_type": "code",
   "execution_count": 141,
   "id": "2e3d1508-52f0-41fe-8626-67f544b6cecd",
   "metadata": {},
   "outputs": [
    {
     "data": {
      "text/plain": [
       "array([[[1, 0, 2],\n",
       "        [0, 2, 1],\n",
       "        [1, 0, 2]],\n",
       "\n",
       "       [[1, 0, 2],\n",
       "        [0, 1, 2],\n",
       "        [1, 2, 0]],\n",
       "\n",
       "       [[0, 1, 2],\n",
       "        [0, 2, 1],\n",
       "        [1, 2, 0]]])"
      ]
     },
     "execution_count": 141,
     "metadata": {},
     "output_type": "execute_result"
    }
   ],
   "source": [
    "np.argsort(array_3_shuffled)"
   ]
  },
  {
   "cell_type": "code",
   "execution_count": 142,
   "id": "25069b93-944b-49b3-a301-43835b4e7ac9",
   "metadata": {},
   "outputs": [],
   "source": [
    "# for instance, the example above shows a same-shape matrix with the indexes of the values of the previously shuffled array, after\n",
    "# the elements of it were sorted along the axis d2 (as no specific axis was passed). The same as before but returning not the values\n",
    "# but their corresponding indexes after sorting."
   ]
  },
  {
   "cell_type": "code",
   "execution_count": 143,
   "id": "f9d6f002-ede6-4bbd-9e12-9ec13c4dd539",
   "metadata": {},
   "outputs": [],
   "source": [
    "# you can get the index of the min and max number from each dimension using argmin() and argmax():"
   ]
  },
  {
   "cell_type": "code",
   "execution_count": 149,
   "id": "343a0388-4e05-44f5-9791-8f3313e2fd81",
   "metadata": {},
   "outputs": [
    {
     "data": {
      "text/plain": [
       "array([[[13,  2, 16],\n",
       "        [ 9, 24, 21],\n",
       "        [ 7,  4, 27]],\n",
       "\n",
       "       [[17,  6, 18],\n",
       "        [12, 14, 23],\n",
       "        [10,  3,  5]],\n",
       "\n",
       "       [[15, 22, 25],\n",
       "        [ 1, 19,  8],\n",
       "        [26, 11, 20]]])"
      ]
     },
     "execution_count": 149,
     "metadata": {},
     "output_type": "execute_result"
    }
   ],
   "source": [
    "array_3_shuffled"
   ]
  },
  {
   "cell_type": "code",
   "execution_count": 162,
   "id": "cb9c4b25-54ad-47d4-b11d-c1e6ebfc20e7",
   "metadata": {},
   "outputs": [
    {
     "data": {
      "text/plain": [
       "array([[1, 0, 1],\n",
       "       [1, 0, 1],\n",
       "       [0, 0, 1]])"
      ]
     },
     "execution_count": 162,
     "metadata": {},
     "output_type": "execute_result"
    }
   ],
   "source": [
    "np.argmin(array_3_shuffled, axis=2)"
   ]
  },
  {
   "cell_type": "code",
   "execution_count": 171,
   "id": "bbc0e924-babd-4168-8437-bf5014bb2bd4",
   "metadata": {},
   "outputs": [
    {
     "data": {
      "text/plain": [
       "array([[2, 1, 2],\n",
       "       [2, 2, 0],\n",
       "       [2, 1, 0]])"
      ]
     },
     "execution_count": 171,
     "metadata": {},
     "output_type": "execute_result"
    }
   ],
   "source": [
    "np.argmax(array_3_shuffled, axis=2)"
   ]
  },
  {
   "cell_type": "code",
   "execution_count": 175,
   "id": "610b010d-a97e-430b-be36-a424b8bc78e7",
   "metadata": {},
   "outputs": [],
   "source": [
    "# at the two examples above, the index for the min and max elements inside each row (axis=2) were outputted on a 2D matrix.\n",
    "# at the shuffled array, the min numbers for each row at the first block of rows have as indexes: [1,0,1] ; at the second block: [1,0,1] \n",
    "# and at the third block: [0,0,1].\n",
    "# i.e., for the first block and its rows, the min numbers (for those returned indexes) are: d2[1]=2 d2[0]=9 d2[1]=4, and so on.\n",
    "# For the max number indexes and values it is the same."
   ]
  },
  {
   "cell_type": "code",
   "execution_count": 183,
   "id": "c4c0ebd7-8b5b-4f37-b20e-5eed53bb25b2",
   "metadata": {},
   "outputs": [],
   "source": [
    "# if we set the axis as 1, for the same example above, and as it is a 3D-array, the comparison will not be between each element of d2 \n",
    "# (inside each row), but between each corresponding element of the rows inside one same block - column by column - d1. I.E, for the first \n",
    "# block and for the first position of each row (or columns), then for the second position of each row and finally for the last position \n",
    "# of each row."
   ]
  },
  {
   "cell_type": "code",
   "execution_count": 178,
   "id": "038c6c61-57cc-4d4f-b04d-ed9f502bd6e8",
   "metadata": {},
   "outputs": [
    {
     "data": {
      "text/plain": [
       "array([[0, 1, 2],\n",
       "       [0, 1, 1],\n",
       "       [2, 0, 0]])"
      ]
     },
     "execution_count": 178,
     "metadata": {},
     "output_type": "execute_result"
    }
   ],
   "source": [
    "np.argmax(array_3_shuffled, axis=1)"
   ]
  },
  {
   "cell_type": "code",
   "execution_count": 182,
   "id": "19c83104-e944-486a-882e-ed212a34e5be",
   "metadata": {},
   "outputs": [],
   "source": [
    "# at the example above, when comparing the columns of the rows of the first block, the max numbers (for those returned indexes) are: \n",
    "# d1[0]=13 d1[1]=24 d1[2]=27, and so on."
   ]
  },
  {
   "cell_type": "code",
   "execution_count": 186,
   "id": "3900afee-bf98-4dc1-a110-047c37ed1909",
   "metadata": {},
   "outputs": [],
   "source": [
    "# for a 1D-array, it would be the easiest case scenario:"
   ]
  },
  {
   "cell_type": "code",
   "execution_count": 185,
   "id": "2ecab246-dfa8-4690-97f9-eb7e61e7c5c5",
   "metadata": {},
   "outputs": [
    {
     "data": {
      "text/plain": [
       "array([1, 2, 3])"
      ]
     },
     "execution_count": 185,
     "metadata": {},
     "output_type": "execute_result"
    }
   ],
   "source": [
    "array_1"
   ]
  },
  {
   "cell_type": "code",
   "execution_count": 188,
   "id": "70a6eb75-f47d-4cf3-bd36-0497d49e02df",
   "metadata": {},
   "outputs": [
    {
     "data": {
      "text/plain": [
       "(0, 2)"
      ]
     },
     "execution_count": 188,
     "metadata": {},
     "output_type": "execute_result"
    }
   ],
   "source": [
    "np.argmin(array_1), np.argmax(array_1)"
   ]
  },
  {
   "cell_type": "code",
   "execution_count": 192,
   "id": "048a70a1-9e0a-44d7-b68f-dfd387e7b59d",
   "metadata": {},
   "outputs": [],
   "source": [
    "# i.e., indexes 0 and 2 of d0, at this 1D array, point out to the min and max values, which are, in this case, d0[0]=1 and d0[2]=3."
   ]
  },
  {
   "cell_type": "markdown",
   "id": "02dbfbbf-06af-4de8-a63c-a4d0df065f4b",
   "metadata": {},
   "source": [
    "## Images into ndarrays"
   ]
  },
  {
   "cell_type": "markdown",
   "id": "603ef577-427b-4f4b-8e51-19be8a0d9834",
   "metadata": {},
   "source": [
    "<img src=\"./panda.png\" />"
   ]
  },
  {
   "cell_type": "code",
   "execution_count": 1,
   "id": "a2cfcbc2-600b-47cc-935b-fa12eb8b979b",
   "metadata": {},
   "outputs": [],
   "source": [
    "from matplotlib.image import imread\n",
    "panda_img = imread(\"./panda.png\")"
   ]
  },
  {
   "cell_type": "code",
   "execution_count": 8,
   "id": "f4ac0603-7091-4813-a4d2-170842812324",
   "metadata": {},
   "outputs": [
    {
     "data": {
      "text/plain": [
       "(numpy.ndarray, 24465000, (2330, 3500, 3))"
      ]
     },
     "execution_count": 8,
     "metadata": {},
     "output_type": "execute_result"
    }
   ],
   "source": [
    "type(panda_img), panda_img.size, panda_img.shape"
   ]
  },
  {
   "cell_type": "code",
   "execution_count": 14,
   "id": "934ff0ce-c329-4ccd-82c4-4e22998017c9",
   "metadata": {},
   "outputs": [
    {
     "data": {
      "text/plain": [
       "array([[[0.05490196, 0.10588235, 0.06666667],\n",
       "        [0.05490196, 0.10588235, 0.06666667],\n",
       "        [0.05490196, 0.10588235, 0.06666667],\n",
       "        ...,\n",
       "        [0.16470589, 0.12941177, 0.09411765],\n",
       "        [0.16470589, 0.12941177, 0.09411765],\n",
       "        [0.16470589, 0.12941177, 0.09411765]]], dtype=float32)"
      ]
     },
     "execution_count": 14,
     "metadata": {},
     "output_type": "execute_result"
    }
   ],
   "source": [
    "panda_img[:1]"
   ]
  },
  {
   "cell_type": "code",
   "execution_count": 20,
   "id": "7ebd06e5-2090-4c76-9873-00053f5ce59b",
   "metadata": {},
   "outputs": [],
   "source": [
    "# above, we've imported a png img into an ndarray using matplotlib and numpy. And we can see it generated a 3D-array, of size (number \n",
    "# of elements) equal to 24465000, and this array with a shape of (2330, 3500, 3), i.e., with 3 positions at d2, 3500 positions at d1 and \n",
    "# 2330 positions at d0... each position with an element, totalizing 2330*3500*3 = 24465000 elements for the whole ndarray or for the \n",
    "# whole image numerical representation."
   ]
  },
  {
   "cell_type": "code",
   "execution_count": 21,
   "id": "697789f4-f6ca-409b-823c-c386dd0ea958",
   "metadata": {},
   "outputs": [],
   "source": [
    "# Another examples:"
   ]
  },
  {
   "cell_type": "markdown",
   "id": "5f89e360-349b-4be4-9cee-ef2f6e0988b6",
   "metadata": {},
   "source": [
    "<img src=\"./car-photo.png\">"
   ]
  },
  {
   "cell_type": "code",
   "execution_count": 22,
   "id": "7e556c51-bb58-411e-8b79-1677cfd0553f",
   "metadata": {},
   "outputs": [],
   "source": [
    "car_img = imread(\"./car-photo.png\")"
   ]
  },
  {
   "cell_type": "code",
   "execution_count": 25,
   "id": "1b38f559-4548-4bac-ab6f-d7d669813bf3",
   "metadata": {},
   "outputs": [
    {
     "data": {
      "text/plain": [
       "(numpy.ndarray, 991300, (431, 575, 4))"
      ]
     },
     "execution_count": 25,
     "metadata": {},
     "output_type": "execute_result"
    }
   ],
   "source": [
    "type(car_img), car_img.size, car_img.shape"
   ]
  },
  {
   "cell_type": "code",
   "execution_count": 26,
   "id": "58efd07b-6fdb-4582-b6ed-a6ba4ed76c66",
   "metadata": {},
   "outputs": [
    {
     "data": {
      "text/plain": [
       "array([[[0.5019608 , 0.50980395, 0.4862745 , 1.        ],\n",
       "        [0.3372549 , 0.34509805, 0.30588236, 1.        ],\n",
       "        [0.20392157, 0.21568628, 0.14901961, 1.        ],\n",
       "        ...,\n",
       "        [0.64705884, 0.7058824 , 0.54901963, 1.        ],\n",
       "        [0.59607846, 0.63529414, 0.45882353, 1.        ],\n",
       "        [0.44705883, 0.47058824, 0.3372549 , 1.        ]]], dtype=float32)"
      ]
     },
     "execution_count": 26,
     "metadata": {},
     "output_type": "execute_result"
    }
   ],
   "source": [
    "car_img[:1]"
   ]
  },
  {
   "cell_type": "markdown",
   "id": "10739fda-b490-45e1-94c2-1e29ff92bd34",
   "metadata": {},
   "source": [
    "<img src=\"./dog-photo.png\">"
   ]
  },
  {
   "cell_type": "code",
   "execution_count": 27,
   "id": "03949032-9a0a-47f7-b2f7-209a2359a8d8",
   "metadata": {},
   "outputs": [],
   "source": [
    "dog_img = imread(\"./dog-photo.png\")"
   ]
  },
  {
   "cell_type": "code",
   "execution_count": 28,
   "id": "9f03c31e-2c75-47e9-ae53-92d88d1f6faf",
   "metadata": {},
   "outputs": [
    {
     "data": {
      "text/plain": [
       "(numpy.ndarray, 993600, (432, 575, 4))"
      ]
     },
     "execution_count": 28,
     "metadata": {},
     "output_type": "execute_result"
    }
   ],
   "source": [
    "type(dog_img), dog_img.size, dog_img.shape"
   ]
  },
  {
   "cell_type": "code",
   "execution_count": 30,
   "id": "af7d22f5-cf6b-40fb-805f-730d76addc58",
   "metadata": {},
   "outputs": [
    {
     "data": {
      "text/plain": [
       "array([[[0.70980394, 0.80784315, 0.88235295, 1.        ],\n",
       "        [0.72156864, 0.8117647 , 0.8862745 , 1.        ],\n",
       "        [0.7411765 , 0.8156863 , 0.8862745 , 1.        ],\n",
       "        ...,\n",
       "        [0.49803922, 0.6862745 , 0.8392157 , 1.        ],\n",
       "        [0.49411765, 0.68235296, 0.8392157 , 1.        ],\n",
       "        [0.49411765, 0.68235296, 0.8352941 , 1.        ]]], dtype=float32)"
      ]
     },
     "execution_count": 30,
     "metadata": {},
     "output_type": "execute_result"
    }
   ],
   "source": [
    "dog_img[:1]"
   ]
  },
  {
   "cell_type": "code",
   "execution_count": 31,
   "id": "c09ffdae-471b-4897-aeaa-43e21b02b9c2",
   "metadata": {},
   "outputs": [],
   "source": [
    "# algorithms in machine learning would then try to find patterns and eventually manipulate those pixels numerical representations \n",
    "# at those numpy ndarrays."
   ]
  }
 ],
 "metadata": {
  "kernelspec": {
   "display_name": "Python 3 (ipykernel)",
   "language": "python",
   "name": "python3"
  },
  "language_info": {
   "codemirror_mode": {
    "name": "ipython",
    "version": 3
   },
   "file_extension": ".py",
   "mimetype": "text/x-python",
   "name": "python",
   "nbconvert_exporter": "python",
   "pygments_lexer": "ipython3",
   "version": "3.10.12"
  }
 },
 "nbformat": 4,
 "nbformat_minor": 5
}
